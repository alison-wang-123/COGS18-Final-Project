{
 "cells": [
  {
   "cell_type": "markdown",
   "metadata": {},
   "source": [
    "Name: Alison Wang\n",
    "PID: A15411921\n",
    "\n",
    "Quiz: Build your own cupcake to find out your best personality trait!\n",
    "\n",
    "The purpose of this project was to execute a quiz, and have the person running the code choose different ingredients to build a cupcake in order to find out their best personality trait. \n",
    "\n",
    "The method I used for this chatbot was to first create a function for each of the questions on the quiz. These functions will each print out the question as well as the four choices for the user to select by inputting one of the four letters, and save the input as a variable. Then a function question_prompt() was used to perform the first part of the quiz, which was to print out an introduction to the quiz and execute the 7 questions, and then adding each input into a list all_answers so that they can be put into a for loop to calculate the score.\n",
    "\n",
    "After that, I created a class ScoreCountClass() that takes in the input answers and runs them in a method score_count() that uses a for loop to calculate the total score (each letter inputted corresponds to a number that adds to the counter). Then, another function score_results() is used to print out the main personality trait of the user based on the previously determined score(which is the value of the counter)."
   ]
  },
  {
   "cell_type": "code",
   "execution_count": 1,
   "metadata": {},
   "outputs": [],
   "source": [
    "from my_module.functions import *"
   ]
  },
  {
   "cell_type": "code",
   "execution_count": 2,
   "metadata": {},
   "outputs": [
    {
     "name": "stdout",
     "output_type": "stream",
     "text": [
      "Hi! Answer these questions and build your own cupckae to find out your best personality trait!\n",
      "Choose a type of batter\n",
      "a)red velvet\n",
      "b)vanilla\n",
      "c)funfetti\n",
      "d)swirled\n"
     ]
    },
    {
     "name": "stdin",
     "output_type": "stream",
     "text": [
      "Enter the letter of your answer here:  a\n"
     ]
    },
    {
     "name": "stdout",
     "output_type": "stream",
     "text": [
      "What kind of baking cup?\n",
      "a)plain white\n",
      "b)rainbow stripes\n",
      "c)polka dots\n",
      "d)animal print\n"
     ]
    },
    {
     "name": "stdin",
     "output_type": "stream",
     "text": [
      "Enter the letter of your answer here:  b\n"
     ]
    },
    {
     "name": "stdout",
     "output_type": "stream",
     "text": [
      "Choose a filling\n",
      "a)cream cheese\n",
      "b)chocolate\n",
      "c)caramel\n",
      "d)candy/sprinkles\n"
     ]
    },
    {
     "name": "stdin",
     "output_type": "stream",
     "text": [
      "Enter the letter of your answer here:  c\n"
     ]
    },
    {
     "name": "stdout",
     "output_type": "stream",
     "text": [
      "What kind of icing?\n",
      "a)cream cheese\n",
      "b)vanilla\n",
      "c)chocolate\n",
      "d)strawberry\n"
     ]
    },
    {
     "name": "stdin",
     "output_type": "stream",
     "text": [
      "Enter the letter of your answer here:  d\n"
     ]
    },
    {
     "name": "stdout",
     "output_type": "stream",
     "text": [
      "What kind of sprinkles?\n",
      "a)star shaped\n",
      "b)rainbow\n",
      "c)chocolate\n",
      "d)no sprinkles\n"
     ]
    },
    {
     "name": "stdin",
     "output_type": "stream",
     "text": [
      "Enter the letter of your answer here:  a\n"
     ]
    },
    {
     "name": "stdout",
     "output_type": "stream",
     "text": [
      "Choose a sauce to drizzle on top\n",
      "a)caramel\n",
      "b)chocolate\n",
      "c)stawberry\n",
      "d)none for me thanks\n"
     ]
    },
    {
     "name": "stdin",
     "output_type": "stream",
     "text": [
      "Enter the letter of your answer here:  b\n"
     ]
    },
    {
     "name": "stdout",
     "output_type": "stream",
     "text": [
      "Choose something to top it all off\n",
      "a)coconut flakes\n",
      "b)fruit\n",
      "c)chocolate bar\n",
      "d)no topping for me thanks\n"
     ]
    },
    {
     "name": "stdin",
     "output_type": "stream",
     "text": [
      "Enter the letter of your answer here:  c\n"
     ]
    },
    {
     "name": "stdout",
     "output_type": "stream",
     "text": [
      "Your best trait is your intelligence! You never cease to amaze others at how well you do in your school work, no matter what subject, you seem to pick it up like a natural!\n"
     ]
    }
   ],
   "source": [
    "take_quiz()"
   ]
  },
  {
   "cell_type": "code",
   "execution_count": null,
   "metadata": {},
   "outputs": [],
   "source": []
  }
 ],
 "metadata": {
  "kernelspec": {
   "display_name": "Python 3",
   "language": "python",
   "name": "python3"
  },
  "language_info": {
   "codemirror_mode": {
    "name": "ipython",
    "version": 3
   },
   "file_extension": ".py",
   "mimetype": "text/x-python",
   "name": "python",
   "nbconvert_exporter": "python",
   "pygments_lexer": "ipython3",
   "version": "3.7.3"
  }
 },
 "nbformat": 4,
 "nbformat_minor": 4
}
